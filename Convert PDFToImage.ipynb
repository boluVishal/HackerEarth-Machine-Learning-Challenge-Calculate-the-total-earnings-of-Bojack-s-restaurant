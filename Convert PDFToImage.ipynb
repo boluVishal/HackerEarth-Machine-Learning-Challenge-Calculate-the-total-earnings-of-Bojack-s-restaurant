{
 "cells": [
  {
   "cell_type": "code",
   "execution_count": 9,
   "metadata": {},
   "outputs": [
    {
     "name": "stdout",
     "output_type": "stream",
     "text": [
      "['TE_131.pdf', 'TE_132.pdf', 'TE_133.pdf', 'TE_134.pdf', 'TE_135.pdf', 'TE_136.pdf', 'TE_137.pdf', 'TE_138.pdf', 'TE_139.pdf', 'TE_140.pdf', 'TE_141.pdf', 'TE_142.pdf', 'TE_143.pdf', 'TE_144.pdf', 'TE_145.pdf', 'TE_146.pdf', 'TE_147.pdf', 'TE_148.pdf', 'TE_149.pdf', 'TE_150.pdf', 'TE_151.pdf', 'TE_152.pdf', 'TE_153.pdf', 'TE_154.pdf', 'TE_155.pdf', 'TE_156.pdf', 'TE_157.pdf', 'TE_158.pdf', 'TE_159.pdf', 'TE_160.pdf', 'TE_161.pdf', 'TE_162.pdf', 'TE_163.pdf', 'TE_164.pdf', 'TE_165.pdf', 'TE_166.pdf', 'TE_167.pdf', 'TE_168.pdf', 'TE_169.pdf', 'TE_170.pdf', 'TE_171.pdf', 'TE_172.pdf', 'TE_173.pdf', 'TE_174.pdf', 'TE_175.pdf', 'TE_176.pdf', 'TE_177.pdf', 'TE_178.pdf', 'TE_179.pdf', 'TE_180.pdf', 'TE_181.pdf', 'TE_182.pdf', 'TE_183.pdf', 'TE_184.pdf', 'TE_185.pdf', 'TE_186.pdf', 'TE_187.pdf', 'TE_188.pdf', 'TE_189.pdf', 'TE_190.pdf', 'TE_191.pdf', 'TE_192.pdf', 'TE_193.pdf', 'TE_194.pdf', 'TE_195.pdf', 'TE_196.pdf', 'TE_197.pdf', 'TE_198.pdf', 'TE_199.pdf', 'TE_200.pdf']\n"
     ]
    }
   ],
   "source": [
    "import os\n",
    "entries = os.listdir('./Dataset/Test/')\n",
    "lof = []\n",
    "for entry in entries:\n",
    "    lof.append(entry) \n",
    "print(lof)\n",
    "from wand.image import Image as wi\n",
    "for i in lof:\n",
    "    pdf = wi(filename='./Dataset/Test/'+i, resolution=300)\n",
    "    pdfimage = pdf.convert(\"jpeg\")\n",
    "    for img in pdfimage.sequence:\n",
    "        page = wi(image=img)\n",
    "        page.save(filename=str(i)+\".jpg\")"
   ]
  },
  {
   "cell_type": "code",
   "execution_count": 7,
   "metadata": {},
   "outputs": [
    {
     "name": "stdout",
     "output_type": "stream",
     "text": [
      "['TR_1.pdf', 'TR_10.pdf', 'TR_100.pdf', 'TR_101.pdf', 'TR_102.pdf', 'TR_103.pdf', 'TR_104.pdf', 'TR_105.pdf', 'TR_106.pdf', 'TR_107.pdf', 'TR_108.pdf', 'TR_109.pdf', 'TR_11.pdf', 'TR_110.pdf', 'TR_111.pdf', 'TR_112.pdf', 'TR_113.pdf', 'TR_114.pdf', 'TR_115.pdf', 'TR_116.pdf', 'TR_117.pdf', 'TR_118.pdf', 'TR_119.pdf', 'TR_12.pdf', 'TR_120.pdf', 'TR_121.pdf', 'TR_122.pdf', 'TR_123.pdf', 'TR_124.pdf', 'TR_125.pdf', 'TR_126.pdf', 'TR_127.pdf', 'TR_128.pdf', 'TR_129.pdf', 'TR_13.pdf', 'TR_130.pdf', 'TR_131.pdf', 'TR_132.pdf', 'TR_133.pdf', 'TR_134.pdf', 'TR_135.pdf', 'TR_136.pdf', 'TR_137.pdf', 'TR_138.pdf', 'TR_139.pdf', 'TR_14.pdf', 'TR_140.pdf', 'TR_141.pdf', 'TR_142.pdf', 'TR_143.pdf', 'TR_144.pdf', 'TR_145.pdf', 'TR_146.pdf', 'TR_147.pdf', 'TR_148.pdf', 'TR_149.pdf', 'TR_15.pdf', 'TR_150.pdf', 'TR_151.pdf', 'TR_152.pdf', 'TR_153.pdf', 'TR_154.pdf', 'TR_155.pdf', 'TR_156.pdf', 'TR_157.pdf', 'TR_158.pdf', 'TR_159.pdf', 'TR_16.pdf', 'TR_160.pdf', 'TR_161.pdf', 'TR_162.pdf', 'TR_163.pdf', 'TR_164.pdf', 'TR_165.pdf', 'TR_166.pdf', 'TR_167.pdf', 'TR_168.pdf', 'TR_169.pdf', 'TR_17.pdf', 'TR_170.pdf', 'TR_171.pdf', 'TR_172.pdf', 'TR_173.pdf', 'TR_174.pdf', 'TR_175.pdf', 'TR_176.pdf', 'TR_177.pdf', 'TR_178.pdf', 'TR_179.pdf', 'TR_18.pdf', 'TR_180.pdf', 'TR_181.pdf', 'TR_182.pdf', 'TR_183.pdf', 'TR_184.pdf', 'TR_185.pdf', 'TR_186.pdf', 'TR_187.pdf', 'TR_188.pdf', 'TR_189.pdf', 'TR_19.pdf', 'TR_190.pdf', 'TR_2.pdf', 'TR_20.pdf', 'TR_21.pdf', 'TR_22.pdf', 'TR_23.pdf', 'TR_24.pdf', 'TR_25.pdf', 'TR_26.pdf', 'TR_27.pdf', 'TR_28.pdf', 'TR_29.pdf', 'TR_3.pdf', 'TR_30.pdf', 'TR_31.pdf', 'TR_32.pdf', 'TR_33.pdf', 'TR_34.pdf', 'TR_35.pdf', 'TR_36.pdf', 'TR_37.pdf', 'TR_38.pdf', 'TR_39.pdf', 'TR_4.pdf', 'TR_40.pdf', 'TR_41.pdf', 'TR_42.pdf', 'TR_43.pdf', 'TR_44.pdf', 'TR_45.pdf', 'TR_46.pdf', 'TR_47.pdf', 'TR_48.pdf', 'TR_49.pdf', 'TR_5.pdf', 'TR_50.pdf', 'TR_51.pdf', 'TR_52.pdf', 'TR_53.pdf', 'TR_54.pdf', 'TR_55.pdf', 'TR_56.pdf', 'TR_57.pdf', 'TR_58.pdf', 'TR_59.pdf', 'TR_6.pdf', 'TR_60.pdf', 'TR_61.pdf', 'TR_62.pdf', 'TR_63.pdf', 'TR_64.pdf', 'TR_65.pdf', 'TR_66.pdf', 'TR_67.pdf', 'TR_68.pdf', 'TR_69.pdf', 'TR_7.pdf', 'TR_70.pdf', 'TR_71.pdf', 'TR_72.pdf', 'TR_73.pdf', 'TR_74.pdf', 'TR_75.pdf', 'TR_76.pdf', 'TR_77.pdf', 'TR_78.pdf', 'TR_79.pdf', 'TR_8.pdf', 'TR_80.pdf', 'TR_81.pdf', 'TR_82.pdf', 'TR_83.pdf', 'TR_84.pdf', 'TR_85.pdf', 'TR_86.pdf', 'TR_87.pdf', 'TR_88.pdf', 'TR_89.pdf', 'TR_9.pdf', 'TR_90.pdf', 'TR_91.pdf', 'TR_92.pdf', 'TR_93.pdf', 'TR_94.pdf', 'TR_95.pdf', 'TR_96.pdf', 'TR_97.pdf', 'TR_98.pdf', 'TR_99.pdf']\n"
     ]
    }
   ],
   "source": [
    "import os\n",
    "entries = os.listdir('./Dataset/Train/')\n",
    "lof = []\n",
    "for entry in entries:\n",
    "    lof.append(entry) \n",
    "print(lof)\n",
    "from wand.image import Image as wi\n",
    "for i in lof:\n",
    "    pdf = wi(filename='./Dataset/Train/'+i, resolution=300)\n",
    "    pdfimage = pdf.convert(\"jpeg\")\n",
    "    for img in pdfimage.sequence:\n",
    "        page = wi(image=img)\n",
    "        page.save(filename=str(i)+\".jpg\")"
   ]
  }
 ],
 "metadata": {
  "kernelspec": {
   "display_name": "Python 3",
   "language": "python",
   "name": "python3"
  },
  "language_info": {
   "codemirror_mode": {
    "name": "ipython",
    "version": 3
   },
   "file_extension": ".py",
   "mimetype": "text/x-python",
   "name": "python",
   "nbconvert_exporter": "python",
   "pygments_lexer": "ipython3",
   "version": "3.7.4"
  }
 },
 "nbformat": 4,
 "nbformat_minor": 2
}
